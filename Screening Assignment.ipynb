{
 "cells": [
  {
   "cell_type": "code",
   "execution_count": 1,
   "id": "5eeb89fa",
   "metadata": {},
   "outputs": [],
   "source": [
    "# Create a function in python to read the text file and replace specific content of the file."
   ]
  },
  {
   "cell_type": "code",
   "execution_count": 2,
   "id": "f97fc98b",
   "metadata": {},
   "outputs": [],
   "source": [
    "import os"
   ]
  },
  {
   "cell_type": "code",
   "execution_count": null,
   "id": "f456ef30",
   "metadata": {},
   "outputs": [],
   "source": []
  },
  {
   "cell_type": "code",
   "execution_count": 121,
   "id": "f20f6772",
   "metadata": {},
   "outputs": [],
   "source": [
    "from pathlib import Path\n",
    "def read_file_replace_text(path_of_file, replacement_text, original_text):\n",
    "    file_path = Path(path_of_file)\n",
    "    if os.path.isfile(file_path):\n",
    "        try:\n",
    "\n",
    "            with open(file_path, 'r+') as f:\n",
    "                data = f.readlines()\n",
    "                print(f'original content of file is \\n{data[0]}')\n",
    "            if original_text in data[0]:\n",
    "                split_data = data[0].split(' ')\n",
    "                idx = split_data.index(original_text)\n",
    "                split_data[idx] = replacement_text\n",
    "                data_to_file = ' '.join(split_data)\n",
    "                with open(file_path, \"w\") as f:\n",
    "                    f.writelines(data_to_file)\n",
    "                    print(f\"New content of file is: \\n{data_to_file} \")\n",
    "            else:\n",
    "                print(f\"{original_text} is not avilable in {file_path}\")\n",
    "        except Exception as e:\n",
    "            print(e)\n",
    "    else:\n",
    "        print('path is not vailid')"
   ]
  },
  {
   "cell_type": "code",
   "execution_count": 122,
   "id": "e0fbf35f",
   "metadata": {},
   "outputs": [
    {
     "name": "stdout",
     "output_type": "stream",
     "text": [
      "original content of file is \n",
      "This is a placement assignment\n",
      "New content of file is: \n",
      "This is a screening assignment \n"
     ]
    }
   ],
   "source": [
    "path = 'D:\\iNeuron\\FullStack\\Python Screening Assignment\\\\example.txt'\n",
    "read_file_replace_text(path, 'screening', 'placement')"
   ]
  },
  {
   "cell_type": "code",
   "execution_count": null,
   "id": "6b279586",
   "metadata": {},
   "outputs": [],
   "source": []
  },
  {
   "cell_type": "markdown",
   "id": "f690e01f",
   "metadata": {},
   "source": [
    "# 2. Demonstrate use of abstract class, multiple inheritance and decorator in\n",
    "# python using examples"
   ]
  },
  {
   "cell_type": "code",
   "execution_count": 29,
   "id": "5ea5301c",
   "metadata": {},
   "outputs": [
    {
     "name": "stdout",
     "output_type": "stream",
     "text": [
      "*****Hello*****\n",
      "We belongs to  mammal\n",
      "we are human.\n",
      "We are formed by cells. \n",
      "we have intelligent mind.\n",
      "\n",
      "\n",
      "*****Hello*****\n",
      "We belongs to  mammal\n",
      "we are Tigers.\n",
      "We are formed by cells. \n",
      "we are king of Jungle.\n",
      "\n",
      "\n",
      "*****Hello*****\n",
      "We belongs to  mammal\n",
      "we are Dogs.\n",
      "We are formed by cells. \n",
      "we are humans best friend\n"
     ]
    }
   ],
   "source": [
    "from abc import ABC, abstractmethod\n",
    "\n",
    "class Living_thing(ABC):\n",
    "    \n",
    "    @abstractmethod    #decorator\n",
    "    def sepcial_character(self):\n",
    "        pass\n",
    "    \n",
    "    @abstractmethod    #decorator\n",
    "    def common_character(self):\n",
    "        print('We are formed by cells. ')\n",
    "\n",
    "class Mammal:\n",
    "    def __init__(self):\n",
    "        print('We belongs to  mammal')\n",
    "\n",
    "\n",
    "class Human(Living_thing, Mammal):\n",
    "    def __init__(self):\n",
    "        print(\"*****Hello*****\")\n",
    "        super().__init__()\n",
    "    \n",
    "    def sepcial_character(self):\n",
    "        print('we have intelligent mind.')\n",
    "    \n",
    "    def common_character(self):\n",
    "        print('we are human.')\n",
    "        super().common_character()\n",
    "        \n",
    "class Tiger(Living_thing, Mammal):\n",
    "    def __init__(self):\n",
    "        print(\"*****Hello*****\")\n",
    "        super().__init__()\n",
    "    \n",
    "    def sepcial_character(self):\n",
    "        print('we are king of Jungle.')\n",
    "    \n",
    "    def common_character(self):\n",
    "        print('we are Tigers.')\n",
    "        super().common_character()\n",
    "    \n",
    "\n",
    "class Dogs(Living_thing, Mammal):\n",
    "    def __init__(self):\n",
    "        print(\"*****Hello*****\")\n",
    "        super().__init__()\n",
    "    \n",
    "    def sepcial_character(self):\n",
    "        print('we are humans best friend')\n",
    "    \n",
    "    def common_character(self):\n",
    "        print('we are Dogs.')\n",
    "        super().common_character()\n",
    "\n",
    "ob_human = Human()\n",
    "ob_human.common_character()\n",
    "ob_human.sepcial_character()\n",
    "print(\"\\n\")\n",
    "ob_Tiger = Tiger()\n",
    "ob_Tiger.common_character()\n",
    "ob_Tiger.sepcial_character()\n",
    "print(\"\\n\")\n",
    "ob_Dog = Dogs()\n",
    "ob_Dog.common_character()\n",
    "ob_Dog.sepcial_character()\n",
    "\n",
    "    \n",
    "    "
   ]
  },
  {
   "cell_type": "code",
   "execution_count": null,
   "id": "5308525b",
   "metadata": {},
   "outputs": [],
   "source": []
  },
  {
   "cell_type": "code",
   "execution_count": null,
   "id": "7c964265",
   "metadata": {},
   "outputs": [],
   "source": []
  }
 ],
 "metadata": {
  "kernelspec": {
   "display_name": "Python 3",
   "language": "python",
   "name": "python3"
  },
  "language_info": {
   "codemirror_mode": {
    "name": "ipython",
    "version": 3
   },
   "file_extension": ".py",
   "mimetype": "text/x-python",
   "name": "python",
   "nbconvert_exporter": "python",
   "pygments_lexer": "ipython3",
   "version": "3.8.10"
  }
 },
 "nbformat": 4,
 "nbformat_minor": 5
}
