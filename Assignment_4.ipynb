{
 "cells": [
  {
   "cell_type": "markdown",
   "metadata": {},
   "source": [
    "# 1.1 Write a Python Program(with class concepts) to find the area of the triangle using the below\n",
    "formula.\n",
    "area = (s*(s-a)*(s-b)*(s-c)) ** 0.5\n",
    "Function to take the length of the sides of triangle from user should be defined in the parent\n",
    "class and function to calculate the area should be defined in subclass."
   ]
  },
  {
   "cell_type": "code",
   "execution_count": 129,
   "metadata": {},
   "outputs": [],
   "source": [
    "class Area:\n",
    "    \n",
    "    def sides(self):\n",
    "        try:\n",
    "            a = float(input('Enter first side: '))  \n",
    "            b = float(input('Enter second side: '))\n",
    "            c = float(input('Enter third side: '))\n",
    "            return(a,b,c)\n",
    "        except Exception as e:    \n",
    "            print(\"Please entre valid no\")\n",
    "\n",
    "class Triangle(Area):\n",
    "        \n",
    "    def area(self):\n",
    "        try:\n",
    "            a,b,c = super().sides()\n",
    "            s = (a+b+c)/2\n",
    "            ar = (s*(s-a)*(s-b)*(s-c)) ** 0.5 \n",
    "            print(\"Area of Triangle is \", round(ar,5))\n",
    "        except Exception as e:\n",
    "            print(\"Exception occure \" +str(e))\n"
   ]
  },
  {
   "cell_type": "code",
   "execution_count": 130,
   "metadata": {},
   "outputs": [],
   "source": [
    "ob_area = Area()"
   ]
  },
  {
   "cell_type": "code",
   "execution_count": 131,
   "metadata": {},
   "outputs": [
    {
     "name": "stdout",
     "output_type": "stream",
     "text": [
      "Enter first side: 6\n",
      "Enter second side: 9\n",
      "Enter third side: 12\n",
      "Area of Triangle is  26.14264\n"
     ]
    }
   ],
   "source": [
    "obj_triangle = Triangle()\n",
    "obj_triangle.area()"
   ]
  },
  {
   "cell_type": "code",
   "execution_count": null,
   "metadata": {},
   "outputs": [],
   "source": []
  },
  {
   "cell_type": "markdown",
   "metadata": {},
   "source": [
    "# 1.2 Write a function filter_long_words() that takes a list of words and an integer n and returns the list of words that are longer than n."
   ]
  },
  {
   "cell_type": "code",
   "execution_count": 132,
   "metadata": {},
   "outputs": [],
   "source": [
    "def filter_long_words(lst, n):\n",
    "    lst_w = []\n",
    "    if len(lst)>=1: # Check     is list empty or not, if yes then print List is Empty.\n",
    "        temp = []\n",
    "        for i in lst: # Check   is list containing any int value,  if yes then it print error message.\n",
    "            temp.append(type(i))\n",
    "        if int not in temp:     \n",
    "            for item in lst:\n",
    "                if len(item)>n:\n",
    "                    lst_w.append(item)\n",
    "            return lst_w\n",
    "        else:\n",
    "            print(\"Kindly pass list containing only words \")\n",
    "                \n",
    "    else:\n",
    "        print(\"List is empty\")\n",
    "    "
   ]
  },
  {
   "cell_type": "code",
   "execution_count": 133,
   "metadata": {},
   "outputs": [
    {
     "name": "stdout",
     "output_type": "stream",
     "text": [
      "Kindly pass list containing only words \n"
     ]
    }
   ],
   "source": [
    "opt = filter_long_words([444,\"hhh\",'Neeraj', 444], 2)"
   ]
  },
  {
   "cell_type": "code",
   "execution_count": 134,
   "metadata": {},
   "outputs": [
    {
     "name": "stdout",
     "output_type": "stream",
     "text": [
      "Kindly pass list containing only words \n"
     ]
    }
   ],
   "source": [
    "opt = filter_long_words([444,\"hhh\",'Neeraj', \"444\"], 2)"
   ]
  },
  {
   "cell_type": "code",
   "execution_count": 135,
   "metadata": {},
   "outputs": [
    {
     "name": "stdout",
     "output_type": "stream",
     "text": [
      "Kindly pass list containing only words \n"
     ]
    }
   ],
   "source": [
    "opt = filter_long_words([\"444\",\"hhh\",'Neeraj', 444], 2)"
   ]
  },
  {
   "cell_type": "code",
   "execution_count": 136,
   "metadata": {},
   "outputs": [],
   "source": [
    "opt = filter_long_words(['hi',\"hello\",'Neeraj', \"Bafila\", \"4444\"], 3)"
   ]
  },
  {
   "cell_type": "code",
   "execution_count": 137,
   "metadata": {},
   "outputs": [
    {
     "data": {
      "text/plain": [
       "['hello', 'Neeraj', 'Bafila', '4444']"
      ]
     },
     "execution_count": 137,
     "metadata": {},
     "output_type": "execute_result"
    }
   ],
   "source": [
    "opt"
   ]
  },
  {
   "cell_type": "code",
   "execution_count": 138,
   "metadata": {},
   "outputs": [
    {
     "name": "stdout",
     "output_type": "stream",
     "text": [
      "List is empty\n"
     ]
    }
   ],
   "source": [
    "opt = filter_long_words([], 2)"
   ]
  },
  {
   "cell_type": "code",
   "execution_count": null,
   "metadata": {},
   "outputs": [],
   "source": []
  },
  {
   "cell_type": "markdown",
   "metadata": {},
   "source": [
    "# 2.1 Write a Python program using function concept that maps list of words into a list of integers representing the lengths of the corresponding words.\n",
    "Hint: If a list [ ab,cde,erty] is passed on to the python function output should come as [2,3,4]\n",
    "Here 2,3 and 4 are the lengths of the words in the list."
   ]
  },
  {
   "cell_type": "code",
   "execution_count": 139,
   "metadata": {},
   "outputs": [],
   "source": [
    "def mapper(lst):\n",
    "    opt = []\n",
    "    try:\n",
    "        for i in lst:\n",
    "            temp = len(i)\n",
    "            opt.append(temp)\n",
    "        return opt\n",
    "    except Exception as e:\n",
    "        print(str(e) + \". Kindly pass list containing valid words\")"
   ]
  },
  {
   "cell_type": "code",
   "execution_count": 140,
   "metadata": {},
   "outputs": [
    {
     "data": {
      "text/plain": [
       "[2, 3, 4]"
      ]
     },
     "execution_count": 140,
     "metadata": {},
     "output_type": "execute_result"
    }
   ],
   "source": [
    "mapper(['ab', \"cde\",\"fghi\"])"
   ]
  },
  {
   "cell_type": "code",
   "execution_count": 141,
   "metadata": {},
   "outputs": [
    {
     "data": {
      "text/plain": [
       "[]"
      ]
     },
     "execution_count": 141,
     "metadata": {},
     "output_type": "execute_result"
    }
   ],
   "source": [
    "mapper([])"
   ]
  },
  {
   "cell_type": "code",
   "execution_count": 142,
   "metadata": {},
   "outputs": [
    {
     "name": "stdout",
     "output_type": "stream",
     "text": [
      "object of type 'int' has no len(). Kindly pass list containing valid words\n"
     ]
    }
   ],
   "source": [
    "mapper([44,'aa','bb'])"
   ]
  },
  {
   "cell_type": "code",
   "execution_count": 143,
   "metadata": {},
   "outputs": [
    {
     "data": {
      "text/plain": [
       "[3, 6, 6]"
      ]
     },
     "execution_count": 143,
     "metadata": {},
     "output_type": "execute_result"
    }
   ],
   "source": [
    "mapper(['123','Neeraj','bafila'])"
   ]
  },
  {
   "cell_type": "code",
   "execution_count": null,
   "metadata": {},
   "outputs": [],
   "source": []
  },
  {
   "cell_type": "markdown",
   "metadata": {},
   "source": [
    "# 2.2 Write a Python function which takes a character (i.e. a string of length 1) and returns True if it is a vowel, False otherwise."
   ]
  },
  {
   "cell_type": "code",
   "execution_count": null,
   "metadata": {},
   "outputs": [],
   "source": []
  },
  {
   "cell_type": "code",
   "execution_count": 144,
   "metadata": {},
   "outputs": [],
   "source": [
    "def vowel(st):\n",
    "    vo = ['A', 'E', 'I','O','U']\n",
    "    if type(st) != str:\n",
    "        print('Kindly pass only one valid character.')\n",
    "    else:\n",
    "        if len(st)>1:\n",
    "            print(\"Kindly pass only one valid character having length one\")\n",
    "        else:\n",
    "            st = st.upper()\n",
    "            if st in vo:    \n",
    "                return True\n",
    "            else:\n",
    "                return False"
   ]
  },
  {
   "cell_type": "code",
   "execution_count": 145,
   "metadata": {},
   "outputs": [
    {
     "data": {
      "text/plain": [
       "True"
      ]
     },
     "execution_count": 145,
     "metadata": {},
     "output_type": "execute_result"
    }
   ],
   "source": [
    "vowel('a')"
   ]
  },
  {
   "cell_type": "code",
   "execution_count": 146,
   "metadata": {},
   "outputs": [
    {
     "data": {
      "text/plain": [
       "False"
      ]
     },
     "execution_count": 146,
     "metadata": {},
     "output_type": "execute_result"
    }
   ],
   "source": [
    "vowel('j')"
   ]
  },
  {
   "cell_type": "code",
   "execution_count": 147,
   "metadata": {},
   "outputs": [
    {
     "data": {
      "text/plain": [
       "True"
      ]
     },
     "execution_count": 147,
     "metadata": {},
     "output_type": "execute_result"
    }
   ],
   "source": [
    "vowel('E')"
   ]
  },
  {
   "cell_type": "code",
   "execution_count": 148,
   "metadata": {},
   "outputs": [
    {
     "name": "stdout",
     "output_type": "stream",
     "text": [
      "Kindly pass only one valid character.\n"
     ]
    }
   ],
   "source": [
    "vowel(['a', '4'])"
   ]
  },
  {
   "cell_type": "code",
   "execution_count": 149,
   "metadata": {},
   "outputs": [
    {
     "name": "stdout",
     "output_type": "stream",
     "text": [
      "Kindly pass only one valid character.\n"
     ]
    }
   ],
   "source": [
    "vowel(('a','aa','cd'))"
   ]
  },
  {
   "cell_type": "code",
   "execution_count": 150,
   "metadata": {},
   "outputs": [
    {
     "name": "stdout",
     "output_type": "stream",
     "text": [
      "Kindly pass only one valid character.\n"
     ]
    }
   ],
   "source": [
    "vowel(12)"
   ]
  },
  {
   "cell_type": "code",
   "execution_count": 151,
   "metadata": {},
   "outputs": [
    {
     "name": "stdout",
     "output_type": "stream",
     "text": [
      "Kindly pass only one valid character having length one\n"
     ]
    }
   ],
   "source": [
    "vowel('neeraj')"
   ]
  },
  {
   "cell_type": "code",
   "execution_count": null,
   "metadata": {},
   "outputs": [],
   "source": []
  },
  {
   "cell_type": "code",
   "execution_count": null,
   "metadata": {},
   "outputs": [],
   "source": []
  }
 ],
 "metadata": {
  "kernelspec": {
   "display_name": "Python 3",
   "language": "python",
   "name": "python3"
  },
  "language_info": {
   "codemirror_mode": {
    "name": "ipython",
    "version": 3
   },
   "file_extension": ".py",
   "mimetype": "text/x-python",
   "name": "python",
   "nbconvert_exporter": "python",
   "pygments_lexer": "ipython3",
   "version": "3.6.4"
  }
 },
 "nbformat": 4,
 "nbformat_minor": 2
}
